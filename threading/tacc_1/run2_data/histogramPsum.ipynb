{
 "cells": [
  {
   "cell_type": "code",
   "execution_count": 1,
   "metadata": {
    "collapsed": true
   },
   "outputs": [],
   "source": [
    "%matplotlib inline\n",
    "import sys,os,getopt,argparse,math\n",
    "import numpy as np\n",
    "import matplotlib.pyplot as plt\n"
   ]
  },
  {
   "cell_type": "markdown",
   "metadata": {},
   "source": [
    "First read in the file and create data as numpy 1Darray of times  "
   ]
  },
  {
   "cell_type": "code",
   "execution_count": 2,
   "metadata": {
    "collapsed": false
   },
   "outputs": [],
   "source": [
    "mavSerialList=[]\n",
    "with open('maverick_serial') as f:\n",
    "    for line in f:\n",
    "      mavSerialList.append(float(line.split()[1]))\n",
    "mavSerialArray=np.asarray(mavSerialList)"
   ]
  },
  {
   "cell_type": "code",
   "execution_count": 3,
   "metadata": {
    "collapsed": false
   },
   "outputs": [
    {
     "data": {
      "image/png": "[encoded data removed]",
      "text/plain": [
       "<matplotlib.figure.Figure at 0x10cf5eb50>"
      ]
     },
     "metadata": {},
     "output_type": "display_data"
    }
   ],
   "source": [
    "fig = plt.figure(figsize=(12,8))\n",
    "ax = fig.add_subplot(111)\n",
    "ax.hist(mavSerialArray,50)\n",
    "plt.xlabel('seconds')\n",
    "plt.title('PSUM serial')\n",
    "plt.show()\n"
   ]
  },
  {
   "cell_type": "code",
   "execution_count": 4,
   "metadata": {
    "collapsed": false
   },
   "outputs": [],
   "source": [
    "#fastOpenMP1_data=np.array(filter(lambda x: x <= 42., dataArray))"
   ]
  },
  {
   "cell_type": "code",
   "execution_count": 5,
   "metadata": {
    "collapsed": false
   },
   "outputs": [
    {
     "name": "stdout",
     "output_type": "stream",
     "text": [
      "PSUM serial average is 33.84031\n",
      "PSUM serial standard deviation is 0.481275507688\n"
     ]
    }
   ],
   "source": [
    "print 'PSUM serial average is' ,np.average(mavSerialArray)\n",
    "print 'PSUM serial standard deviation is',np.std(mavSerialArray)"
   ]
  },
  {
   "cell_type": "code",
   "execution_count": 6,
   "metadata": {
    "collapsed": true
   },
   "outputs": [],
   "source": [
    "testList=['serial','openmp','openmp-2','tbb_rankBuffer','tbb_singleBuffer']\n",
    "threadCount=[1,2,4,8,10,12,14,16,18,19,20,25,30,35,40]\n"
   ]
  },
  {
   "cell_type": "code",
   "execution_count": 7,
   "metadata": {
    "collapsed": false
   },
   "outputs": [],
   "source": [
    "dataListDict={}\n",
    "dataArrayDict={}\n",
    "for test in testList[1:4]:\n",
    "    for thread in threadCount:\n",
    "        listPre='maverick_' + test + '_' + str(thread) \n",
    "        dataFileName=listPre + '.txt'\n",
    "        listName=listPre\n",
    "        dataListDict[listName]=[]\n",
    "        with open(dataFileName) as f:\n",
    "          for line in f:\n",
    "            #print line\n",
    "            if \"tbb\" in test:\n",
    "              dataListDict[listName].append(float(line.split()[4]))\n",
    "            else:\n",
    "              dataListDict[listName].append(float(line.split()[2]))\n",
    "for key in dataListDict:\n",
    "    dataArrayDict[key]=np.asanyarray(dataListDict[key])"
   ]
  },
  {
   "cell_type": "code",
   "execution_count": 8,
   "metadata": {
    "collapsed": false
   },
   "outputs": [
    {
     "data": {
      "image/png": "[encoded data removed]",
      "text/plain": [
       "<matplotlib.figure.Figure at 0x10d37e050>"
      ]
     },
     "metadata": {},
     "output_type": "display_data"
    }
   ],
   "source": [
    "fig = plt.figure(figsize=(12,8))\n",
    "ax = fig.add_subplot(111)\n",
    "dk='maverick_tbb_rankBuffer_1'\n",
    "ax.hist(dataArrayDict[dk],50)\n",
    "plt.xlabel('seconds')\n",
    "plt.title('PSUM '+ dk)\n",
    "plt.show()"
   ]
  },
  {
   "cell_type": "code",
   "execution_count": 12,
   "metadata": {
    "collapsed": false
   },
   "outputs": [
    {
     "data": {
      "text/plain": [
       "['maverick_openmp_30',\n",
       " 'maverick_tbb_rankBuffer_4',\n",
       " 'maverick_openmp_35',\n",
       " 'maverick_tbb_rankBuffer_2',\n",
       " 'maverick_tbb_rankBuffer_8',\n",
       " 'maverick_openmp-2_19',\n",
       " 'maverick_openmp-2_18',\n",
       " 'maverick_openmp-2_16',\n",
       " 'maverick_openmp-2_14',\n",
       " 'maverick_openmp-2_12',\n",
       " 'maverick_openmp-2_10',\n",
       " 'maverick_openmp_4',\n",
       " 'maverick_tbb_rankBuffer_40',\n",
       " 'maverick_openmp_1',\n",
       " 'maverick_openmp_2',\n",
       " 'maverick_tbb_rankBuffer_1',\n",
       " 'maverick_openmp_8',\n",
       " 'maverick_tbb_rankBuffer_25',\n",
       " 'maverick_openmp-2_8',\n",
       " 'maverick_openmp_18',\n",
       " 'maverick_openmp_19',\n",
       " 'maverick_openmp_16',\n",
       " 'maverick_openmp-2_2',\n",
       " 'maverick_openmp_14',\n",
       " 'maverick_openmp_12',\n",
       " 'maverick_openmp_10',\n",
       " 'maverick_openmp-2_4',\n",
       " 'maverick_openmp-2_40',\n",
       " 'maverick_openmp_25',\n",
       " 'maverick_openmp_20',\n",
       " 'maverick_tbb_rankBuffer_20',\n",
       " 'maverick_openmp-2_20',\n",
       " 'maverick_openmp-2_1',\n",
       " 'maverick_openmp-2_25',\n",
       " 'maverick_openmp-2_35',\n",
       " 'maverick_openmp-2_30',\n",
       " 'maverick_tbb_rankBuffer_30',\n",
       " 'maverick_openmp_40',\n",
       " 'maverick_tbb_rankBuffer_35',\n",
       " 'maverick_tbb_rankBuffer_18',\n",
       " 'maverick_tbb_rankBuffer_19',\n",
       " 'maverick_tbb_rankBuffer_16',\n",
       " 'maverick_tbb_rankBuffer_14',\n",
       " 'maverick_tbb_rankBuffer_12',\n",
       " 'maverick_tbb_rankBuffer_10']"
      ]
     },
     "execution_count": 12,
     "metadata": {},
     "output_type": "execute_result"
    }
   ],
   "source": [
    "dataArrayDict.keys()"
   ]
  },
  {
   "cell_type": "code",
   "execution_count": 14,
   "metadata": {
    "collapsed": false
   },
   "outputs": [],
   "source": [
    "openMpVal=[]\n",
    "openMpTcount=[]\n",
    "openMp2Val=[]\n",
    "openMp2Tcount=[]\n",
    "tbbRankVal=[]\n",
    "tbbRankTcount=[]\n",
    "for key in dataArrayDict:\n",
    "    if key.split(\"_\")[1]=='openmp':\n",
    "        openMpVal.append(np.average(dataArrayDict[key]))\n",
    "        openMpTcount.append(key.split(\"_\")[-1])\n",
    "    if key.split(\"_\")[1]=='openmp-2':\n",
    "      openMp2Val.append(np.average(dataArrayDict[key]))\n",
    "      openMp2Tcount.append(key.split(\"_\")[-1])\n",
    "    if 'tbb_rankBuffer' in key:\n",
    "      tbbRankVal.append(np.average(dataArrayDict[key]))\n",
    "      tbbRankTcount.append(key.split(\"_\")[-1]) "
   ]
  },
  {
   "cell_type": "code",
   "execution_count": 15,
   "metadata": {
    "collapsed": false
   },
   "outputs": [
    {
     "data": {
      "image/png": "[encoded data removed]",
      "text/plain": [
       "<matplotlib.figure.Figure at 0x10dabb050>"
      ]
     },
     "metadata": {},
     "output_type": "display_data"
    }
   ],
   "source": [
    "fig = plt.figure(figsize=(12,8))\n",
    "ax = fig.add_subplot(111)\n",
    "dk='Find the fastest'\n",
    "ax.loglog(openMpTcount,openMpVal,'+',label='openmp')\n",
    "ax.loglog(openMp2Tcount,openMp2Val,'o',label='openmp-2')\n",
    "ax.loglog(tbbRankTcount,tbbRankVal,'v',label='tbb_rank')\n",
    "plt.xlabel('Thread count')\n",
    "plt.title('PSUM: '+ dk)\n",
    "plt.legend()\n",
    "plt.show()\n"
   ]
  },
  {
   "cell_type": "code",
   "execution_count": 11,
   "metadata": {
    "collapsed": false
   },
   "outputs": [
    {
     "data": {
      "text/plain": [
       "['30',\n",
       " '35',\n",
       " '4',\n",
       " '1',\n",
       " '2',\n",
       " '8',\n",
       " '18',\n",
       " '19',\n",
       " '16',\n",
       " '14',\n",
       " '12',\n",
       " '10',\n",
       " '25',\n",
       " '20',\n",
       " '40']"
      ]
     },
     "execution_count": 11,
     "metadata": {},
     "output_type": "execute_result"
    }
   ],
   "source": [
    "openMpTcount"
   ]
  },
  {
   "cell_type": "code",
   "execution_count": null,
   "metadata": {
    "collapsed": true
   },
   "outputs": [],
   "source": []
  }
 ],
 "metadata": {
  "kernelspec": {
   "display_name": "Python 2",
   "language": "python",
   "name": "python2"
  },
  "language_info": {
   "codemirror_mode": {
    "name": "ipython",
    "version": 2
   },
   "file_extension": ".py",
   "mimetype": "text/x-python",
   "name": "python",
   "nbconvert_exporter": "python",
   "pygments_lexer": "ipython2",
   "version": "2.7.11"
  }
 },
 "nbformat": 4,
 "nbformat_minor": 0
}
